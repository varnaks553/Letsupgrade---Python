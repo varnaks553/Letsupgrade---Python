{
 "cells": [
  {
   "cell_type": "markdown",
   "metadata": {},
   "source": [
    "# Question 1\n"
   ]
  },
  {
   "cell_type": "code",
   "execution_count": 12,
   "metadata": {},
   "outputs": [],
   "source": [
    "class account:\n",
    "    def __init__(self, bal):\n",
    "        \n",
    "        self.bal = bal\n",
    "        self.deposit()\n",
    "        self.withdraw()\n",
    "        \n",
    "    def deposit(self):\n",
    "        dep = int(input('Enter the deposit amount'))\n",
    "        self.bal = self.bal+dep\n",
    "        print('Deposited : ',dep)\n",
    "        print('Available bal: ',self.bal)\n",
    "    \n",
    "    def withdraw(self):\n",
    "        draw = int(input('enter the withdrawal amount'))\n",
    "        if draw > self.bal :\n",
    "            print(\"insufficient balance\")\n",
    "        else:\n",
    "            self.bal = self.bal-draw\n",
    "            print(\"withdrew = \",draw)\n",
    "            print('Available bal: ',self.bal)\n",
    "            "
   ]
  },
  {
   "cell_type": "code",
   "execution_count": 13,
   "metadata": {},
   "outputs": [
    {
     "name": "stdout",
     "output_type": "stream",
     "text": [
      "Enter the deposit amount1000\n",
      "Deposited :  1000\n",
      "Available bal:  5000\n",
      "enter the withdrawal amount2000\n",
      "withdrew =  2000\n",
      "Available bal:  3000\n"
     ]
    },
    {
     "data": {
      "text/plain": [
       "<__main__.account at 0x248517e4e80>"
      ]
     },
     "execution_count": 13,
     "metadata": {},
     "output_type": "execute_result"
    }
   ],
   "source": [
    "account(4000)"
   ]
  },
  {
   "cell_type": "markdown",
   "metadata": {},
   "source": [
    "# QUESTION 2"
   ]
  },
  {
   "cell_type": "code",
   "execution_count": null,
   "metadata": {},
   "outputs": [],
   "source": [
    "import math\n",
    "class Cone:\n",
    "    def __init__(self,r,h):\n",
    "        self.r = r\n",
    "        self.h = h\n",
    "        self.volume()\n",
    "        self.sa()\n",
    "    \n",
    "    def volume(self):\n",
    "        vol = math.pi * self.r * self.r * (self.h/3)\n",
    "        print(\"Volume = \",vol)\n",
    "    \n",
    "    def sa(self):\n",
    "        base = math.pi* self.r * self.r\n",
    "        side = math.pi * self.r*math.sqrt((self.r * self.r)+(self.h * self.h))\n",
    "        print('Surface Area = ',base+side)\n",
    "        "
   ]
  },
  {
   "cell_type": "code",
   "execution_count": null,
   "metadata": {},
   "outputs": [],
   "source": [
    "Cone(4,5)"
   ]
  },
  {
   "cell_type": "code",
   "execution_count": null,
   "metadata": {},
   "outputs": [],
   "source": []
  }
 ],
 "metadata": {
  "kernelspec": {
   "display_name": "Python 3",
   "language": "python",
   "name": "python3"
  }
 },
 "nbformat": 4,
 "nbformat_minor": 4
}
