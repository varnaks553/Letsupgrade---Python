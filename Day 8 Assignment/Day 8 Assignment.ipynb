{
 "cells": [
  {
   "cell_type": "markdown",
   "metadata": {},
   "source": [
    "# Question 1\n"
   ]
  },
  {
   "cell_type": "code",
   "execution_count": 2,
   "metadata": {},
   "outputs": [
    {
     "name": "stdout",
     "output_type": "stream",
     "text": [
      "Enter the Range30\n",
      "Fibonacci Series = \n",
      "0 ,  1 ,  1 ,  2 ,  3 ,  5 ,  8 ,  13 ,  21"
     ]
    }
   ],
   "source": [
    "def decorator_fib(fibo):\n",
    "    def fibona():\n",
    "        n = int(input('Enter the Range'))\n",
    "        fibo(n)\n",
    "    return fibona\n",
    "\n",
    "@decorator_fib\n",
    "def series(n):\n",
    "    x,y = 0,1\n",
    "    print('Fibonacci Series = ')\n",
    "    print(x,end=\"\")\n",
    "    while y<n:\n",
    "        print(' , ',y,end='')\n",
    "        x,y = y,x+y\n",
    "series()\n",
    "    "
   ]
  },
  {
   "cell_type": "markdown",
   "metadata": {},
   "source": [
    "# Question 2"
   ]
  },
  {
   "cell_type": "code",
   "execution_count": 5,
   "metadata": {},
   "outputs": [
    {
     "name": "stdout",
     "output_type": "stream",
     "text": [
      "read only\n"
     ]
    }
   ],
   "source": [
    "import io\n",
    "f = open('pyt.txt','a')\n",
    "f.write('Writing!!!')\n",
    "f.close()\n",
    "try:\n",
    "    fi = open('pyt.txt','r')\n",
    "    fi.write('Python was developed by Guido van Rossum')\n",
    "    fi.close()\n",
    "except io.UnsupportedOperation:\n",
    "    print('read only')\n",
    "    "
   ]
  },
  {
   "cell_type": "code",
   "execution_count": null,
   "metadata": {},
   "outputs": [],
   "source": []
  }
 ],
 "metadata": {
  "kernelspec": {
   "display_name": "Python 3",
   "language": "python",
   "name": "python3"
  },
  "language_info": {
   "codemirror_mode": {
    "name": "ipython",
    "version": 3
   },
   "file_extension": ".py",
   "mimetype": "text/x-python",
   "name": "python",
   "nbconvert_exporter": "python",
   "pygments_lexer": "ipython3",
   "version": "3.8.3"
  }
 },
 "nbformat": 4,
 "nbformat_minor": 4
}
