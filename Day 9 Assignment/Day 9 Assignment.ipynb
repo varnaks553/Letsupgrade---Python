{
 "cells": [
  {
   "cell_type": "markdown",
   "metadata": {},
   "source": [
    "# Question 1"
   ]
  },
  {
   "cell_type": "code",
   "execution_count": 2,
   "metadata": {},
   "outputs": [
    {
     "name": "stdout",
     "output_type": "stream",
     "text": [
      "Writing q1.py\n"
     ]
    }
   ],
   "source": [
    "%%writefile q1.py\n",
    "\n",
    "for i in range(1,200):\n",
    "    for n in range(2,i):\n",
    "        if (i%n)==0 :\n",
    "            break\n",
    "        else:\n",
    "            print(i)"
   ]
  },
  {
   "cell_type": "code",
   "execution_count": 4,
   "metadata": {},
   "outputs": [
    {
     "name": "stdout",
     "output_type": "stream",
     "text": [
      "************* Module q1\n",
      "q1.py:2:16: C0326: Exactly one space required after comma\n",
      "for i in range(1,200):\n",
      "\n",
      "                ^ (bad-whitespace)\n",
      "q1.py:3:20: C0326: Exactly one space required after comma\n",
      "    for n in range(2,i):\n",
      "\n",
      "                    ^ (bad-whitespace)\n",
      "q1.py:4:16: C0326: Exactly one space required around comparison\n",
      "        if (i%n)==0 :\n",
      "\n",
      "                ^^ (bad-whitespace)\n",
      "q1.py:4:20: C0326: No space allowed before :\n",
      "        if (i%n)==0 :\n",
      "\n",
      "                    ^ (bad-whitespace)\n",
      "q1.py:1:0: C0114: Missing module docstring (missing-module-docstring)\n",
      "q1.py:4:8: R1723: Unnecessary \"else\" after \"break\" (no-else-break)\n",
      "\n",
      "------------------------------------\n",
      "\n",
      "Your code has been rated at -2.00/10\n",
      "\n",
      "\n",
      "\n"
     ]
    }
   ],
   "source": [
    "! pylint q1.py"
   ]
  },
  {
   "cell_type": "code",
   "execution_count": 13,
   "metadata": {},
   "outputs": [
    {
     "name": "stdout",
     "output_type": "stream",
     "text": [
      "Overwriting q1.py\n"
     ]
    }
   ],
   "source": [
    "%%writefile q1.py\n",
    "\"\"\"\n",
    "The following module contains a function for checking whether a number is prime or not.\n",
    "\"\"\"\n",
    "N = 100\n",
    "def check_prime(number):\n",
    "    \"\"\"\n",
    "    Checks whether the given number is prime or not\n",
    "    \"\"\"\n",
    "    if number <= 1:\n",
    "        return False\n",
    "    for element in range(2, number):\n",
    "        if number % element == 0:\n",
    "            return False\n",
    "    return True\n",
    "check_prime(N)"
   ]
  },
  {
   "cell_type": "code",
   "execution_count": 14,
   "metadata": {},
   "outputs": [
    {
     "name": "stdout",
     "output_type": "stream",
     "text": [
      "\n",
      "-------------------------------------------------------------------\n",
      "\n",
      "Your code has been rated at 10.00/10 (previous run: 8.89/10, +1.11)\n",
      "\n",
      "\n",
      "\n"
     ]
    }
   ],
   "source": [
    "! pylint q1.py"
   ]
  },
  {
   "cell_type": "markdown",
   "metadata": {},
   "source": [
    "# Question 2"
   ]
  },
  {
   "cell_type": "code",
   "execution_count": 26,
   "metadata": {},
   "outputs": [],
   "source": [
    "def armst(lst):\n",
    "    for n in lst:\n",
    "        order = len(str(n))\n",
    "        sum= 0\n",
    "        temp = n\n",
    "        while temp > 0:\n",
    "            digit = temp % 10\n",
    "            sum = sum + digit ** order\n",
    "            temp = temp // 10\n",
    "            if n == sum:\n",
    "                yield(n)"
   ]
  },
  {
   "cell_type": "code",
   "execution_count": 27,
   "metadata": {},
   "outputs": [],
   "source": [
    "lst = range(1,1000)\n",
    "a = armst(lst)"
   ]
  },
  {
   "cell_type": "code",
   "execution_count": 28,
   "metadata": {},
   "outputs": [
    {
     "name": "stdout",
     "output_type": "stream",
     "text": [
      "[1, 2, 3, 4, 5, 6, 7, 8, 9, 25, 36, 125, 153, 216, 370, 371, 407, 729]\n"
     ]
    }
   ],
   "source": [
    "print(list(a))"
   ]
  },
  {
   "cell_type": "code",
   "execution_count": null,
   "metadata": {},
   "outputs": [],
   "source": []
  }
 ],
 "metadata": {
  "kernelspec": {
   "display_name": "Python 3",
   "language": "python",
   "name": "python3"
  },
  "language_info": {
   "codemirror_mode": {
    "name": "ipython",
    "version": 3
   },
   "file_extension": ".py",
   "mimetype": "text/x-python",
   "name": "python",
   "nbconvert_exporter": "python",
   "pygments_lexer": "ipython3",
   "version": "3.8.3"
  }
 },
 "nbformat": 4,
 "nbformat_minor": 4
}
